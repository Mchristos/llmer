{
 "cells": [
  {
   "cell_type": "markdown",
   "metadata": {},
   "source": [
    "# core\n",
    "\n",
    "> Fill in a module description here"
   ]
  },
  {
   "cell_type": "code",
   "execution_count": null,
   "metadata": {},
   "outputs": [],
   "source": [
    "#| default_exp core"
   ]
  },
  {
   "cell_type": "code",
   "execution_count": null,
   "metadata": {},
   "outputs": [],
   "source": [
    "#| hide\n",
    "from nbdev.showdoc import *"
   ]
  },
  {
   "cell_type": "code",
   "execution_count": null,
   "metadata": {},
   "outputs": [],
   "source": [
    "#| export\n",
    "import os\n",
    "from google import genai\n",
    "from dotenv import load_dotenv\n",
    "from IPython.display import display, Markdown\n",
    "\n",
    "APIKEY_STRS = {'gemini': 'GEMINI_API_KEY'}\n",
    "DEFAULT_MODELS = {'gemini': 'gemini-2.5-flash'}\n",
    "\n",
    "def show(response):\n",
    "    return display(Markdown(response.text))\n",
    "    \n",
    "class LLMer: \n",
    "    def __init__(self, provider: str, model=None, fmt_response=True):\n",
    "        self.provider = provider.lower()\n",
    "        self.model = model\n",
    "        self.fmt_response = fmt_response\n",
    "    \n",
    "        load_dotenv()\n",
    "        apikey_str = APIKEY_STRS.get(self.provider)\n",
    "        if self.provider == \"gemini\":\n",
    "            # 1. Set API Key\n",
    "            api_key = os.getenv(apikey_str)\n",
    "            if not api_key:\n",
    "                raise ValueError(f\"No API key found: {apikey_str}\")\n",
    "            print(f\"found GEMINI_API_KEY: {'...' + api_key[-4:] if api_key else 'N/A'}\")\n",
    "            # 2. Set model / default model\n",
    "            if self.model is None:\n",
    "                self.model = DEFAULT_MODELS[self.provider]\n",
    "            # 3. Set chat\n",
    "            self.client = genai.Client()\n",
    "            self.chat = self.client.chats.create(model=self.model)\n",
    "        else:\n",
    "            raise ValueError(f\"Provider {self.provider} not supported\")\n",
    "            \n",
    "        print(f\"LLMer initialized for '{self.provider}'.\")\n",
    "\n",
    "    def ask(self, prompt: str, fmt_response: bool = True) -> str:\n",
    "        if self.provider == \"gemini\":\n",
    "            r = self.chat.send_message(prompt)\n",
    "        elif self.provider == \"openai\":\n",
    "            pass\n",
    "        else:\n",
    "            raise ValueError(f\"Provider '{self.provider}' not supported.\")\n",
    "        if fmt_response:\n",
    "            show(r)\n",
    "        else:\n",
    "            return r"
   ]
  },
  {
   "cell_type": "code",
   "execution_count": null,
   "metadata": {},
   "outputs": [],
   "source": [
    "#| hide\n",
    "import nbdev; nbdev.nbdev_export()"
   ]
  }
 ],
 "metadata": {
  "kernelspec": {
   "display_name": "Python 3 (ipykernel)",
   "language": "python",
   "name": "python3"
  },
  "language_info": {
   "codemirror_mode": {
    "name": "ipython",
    "version": 3
   },
   "file_extension": ".py",
   "mimetype": "text/x-python",
   "name": "python",
   "nbconvert_exporter": "python",
   "pygments_lexer": "ipython3",
   "version": "3.12.8"
  }
 },
 "nbformat": 4,
 "nbformat_minor": 4
}
