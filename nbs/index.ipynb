{
 "cells": [
  {
   "cell_type": "code",
   "execution_count": null,
   "metadata": {},
   "outputs": [],
   "source": [
    "#| hide\n",
    "from llmer.core import *"
   ]
  },
  {
   "cell_type": "markdown",
   "metadata": {},
   "source": [
    "# llmer\n",
    "\n",
    "> easily interact with llms from your notebook"
   ]
  },
  {
   "cell_type": "markdown",
   "metadata": {},
   "source": [
    "This file will become your README and also the index of your documentation."
   ]
  },
  {
   "cell_type": "markdown",
   "metadata": {},
   "source": [
    "## Developer Guide"
   ]
  },
  {
   "cell_type": "markdown",
   "metadata": {},
   "source": [
    "If you are new to using `nbdev` here are some useful pointers to get you started."
   ]
  },
  {
   "cell_type": "markdown",
   "metadata": {},
   "source": [
    "### Install llmer in Development mode"
   ]
  },
  {
   "cell_type": "markdown",
   "metadata": {},
   "source": [
    "```sh\n",
    "# make sure llmer package is installed in development mode\n",
    "$ pip install -e .\n",
    "\n",
    "# make changes under nbs/ directory\n",
    "# ...\n",
    "\n",
    "# compile to have changes apply to llmer\n",
    "$ nbdev_prepare\n",
    "```"
   ]
  },
  {
   "cell_type": "markdown",
   "metadata": {},
   "source": [
    "## Usage"
   ]
  },
  {
   "cell_type": "markdown",
   "metadata": {},
   "source": [
    "### Installation"
   ]
  },
  {
   "cell_type": "markdown",
   "metadata": {},
   "source": [
    "Install latest from the GitHub [repository][repo]:\n",
    "\n",
    "```sh\n",
    "$ pip install git+https://github.com/Mchristos/llmer.git\n",
    "```\n",
    "\n",
    "or from [conda][conda]\n",
    "\n",
    "```sh\n",
    "$ conda install -c Mchristos llmer\n",
    "```\n",
    "\n",
    "or from [pypi][pypi]\n",
    "\n",
    "\n",
    "```sh\n",
    "$ pip install llmer\n",
    "```\n",
    "\n",
    "\n",
    "[repo]: https://github.com/Mchristos/llmer\n",
    "[docs]: https://Mchristos.github.io/llmer/\n",
    "[pypi]: https://pypi.org/project/llmer/\n",
    "[conda]: https://anaconda.org/Mchristos/llmer"
   ]
  },
  {
   "cell_type": "markdown",
   "metadata": {},
   "source": [
    "### Documentation"
   ]
  },
  {
   "cell_type": "markdown",
   "metadata": {},
   "source": [
    "Documentation can be found hosted on this GitHub [repository][repo]'s [pages][docs]. Additionally you can find package manager specific guidelines on [conda][conda] and [pypi][pypi] respectively.\n",
    "\n",
    "[repo]: https://github.com/Mchristos/llmer\n",
    "[docs]: https://Mchristos.github.io/llmer/\n",
    "[pypi]: https://pypi.org/project/llmer/\n",
    "[conda]: https://anaconda.org/Mchristos/llmer"
   ]
  },
  {
   "cell_type": "markdown",
   "metadata": {},
   "source": [
    "## How to use"
   ]
  },
  {
   "cell_type": "markdown",
   "metadata": {},
   "source": [
    "Fill me in please! Don't forget code examples:"
   ]
  },
  {
   "cell_type": "code",
   "execution_count": null,
   "metadata": {},
   "outputs": [
    {
     "name": "stdout",
     "output_type": "stream",
     "text": [
      "found GEMINI_API_KEY: ...PGF0\n",
      "LLMer initialized for 'gemini'.\n"
     ]
    }
   ],
   "source": [
    "llm = LLMer(\"gemini\")"
   ]
  },
  {
   "cell_type": "code",
   "execution_count": null,
   "metadata": {},
   "outputs": [
    {
     "data": {
      "text/markdown": [
       "Hello Mchristos! Great to meet you!\n",
       "\n",
       "And you love coffee? Excellent! You've definitely found someone (or something, in my case!) who appreciates a good brew.\n",
       "\n",
       "What kind of coffee is your favorite? Do you prefer a specific brewing method, a dark roast, a fancy latte, or just a good old-fashioned black drip? Tell me all about your coffee passion!"
      ],
      "text/plain": [
       "<IPython.core.display.Markdown object>"
      ]
     },
     "metadata": {},
     "output_type": "display_data"
    }
   ],
   "source": [
    "llm.ask(\"Hey, my name is Mchristos and I love coffee\")"
   ]
  },
  {
   "cell_type": "code",
   "execution_count": null,
   "metadata": {},
   "outputs": [
    {
     "data": {
      "text/markdown": [
       "Haha, you just told me! You love **coffee**, Mchristos!\n",
       "\n",
       "It's a wonderful passion to have. Tell me, what is it about coffee that you adore so much? Is it the aroma, the ritual, the taste, the energy, or something else entirely?"
      ],
      "text/plain": [
       "<IPython.core.display.Markdown object>"
      ]
     },
     "metadata": {},
     "output_type": "display_data"
    }
   ],
   "source": [
    "llm.ask(\"What do I love?\")"
   ]
  },
  {
   "cell_type": "code",
   "execution_count": null,
   "metadata": {},
   "outputs": [
    {
     "data": {
      "text/markdown": [
       "Okay, Mchristos! Here's a simple Python script that does exactly that.\n",
       "\n",
       "```python\n",
       "# Mchristos's Python Coffee Script\n",
       "\n",
       "what_i_love = \"I love coffee!\"\n",
       "\n",
       "for _ in range(7):\n",
       "    print(what_i_love)\n",
       "```\n",
       "\n",
       "**How to run this script:**\n",
       "\n",
       "1.  **Save it:** Open a text editor (like Notepad, VS Code, Sublime Text, Atom, etc.), paste the code, and save the file with a `.py` extension (e.g., `my_coffee_script.py`).\n",
       "2.  **Open a terminal/command prompt:** Navigate to the directory where you saved the file.\n",
       "3.  **Run:** Type `python my_coffee_script.py` and press Enter.\n",
       "\n",
       "You'll see:\n",
       "\n",
       "```\n",
       "I love coffee!\n",
       "I love coffee!\n",
       "I love coffee!\n",
       "I love coffee!\n",
       "I love coffee!\n",
       "I love coffee!\n",
       "I love coffee!\n",
       "```"
      ],
      "text/plain": [
       "<IPython.core.display.Markdown object>"
      ]
     },
     "metadata": {},
     "output_type": "display_data"
    }
   ],
   "source": [
    "llm.ask(\"Write a python script that prints out what I love 7 times\")"
   ]
  },
  {
   "cell_type": "code",
   "execution_count": null,
   "metadata": {},
   "outputs": [],
   "source": []
  }
 ],
 "metadata": {
  "kernelspec": {
   "display_name": "llmer",
   "language": "python",
   "name": "llmer"
  }
 },
 "nbformat": 4,
 "nbformat_minor": 4
}
